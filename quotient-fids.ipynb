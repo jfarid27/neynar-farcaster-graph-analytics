{
 "cells": [
  {
   "cell_type": "markdown",
   "id": "17c98bda-23a8-4597-a532-5c32dbbee077",
   "metadata": {},
   "source": [
    "# Data Import and Library Loading"
   ]
  },
  {
   "cell_type": "code",
   "execution_count": 6,
   "id": "fc09c724-465b-49a0-bdc2-822aed181ff6",
   "metadata": {},
   "outputs": [],
   "source": [
    "import pandas as pd\n",
    "import glob\n",
    "import networkx as nx\n",
    "import matplotlib.pyplot as plt\n",
    "import numpy as np\n",
    "from scipy.stats import spearmanr\n",
    "\n",
    "data_src = \"fids_reputation_20250508.csv\"\n",
    "\n",
    "df = pd.read_csv(data_src)"
   ]
  },
  {
   "cell_type": "code",
   "execution_count": 7,
   "id": "36352d94-cb8e-4ec2-b211-3bf9f63ca438",
   "metadata": {},
   "outputs": [
    {
     "data": {
      "text/html": [
       "<div>\n",
       "<style scoped>\n",
       "    .dataframe tbody tr th:only-of-type {\n",
       "        vertical-align: middle;\n",
       "    }\n",
       "\n",
       "    .dataframe tbody tr th {\n",
       "        vertical-align: top;\n",
       "    }\n",
       "\n",
       "    .dataframe thead th {\n",
       "        text-align: right;\n",
       "    }\n",
       "</style>\n",
       "<table border=\"1\" class=\"dataframe\">\n",
       "  <thead>\n",
       "    <tr style=\"text-align: right;\">\n",
       "      <th></th>\n",
       "      <th>Unnamed: 0</th>\n",
       "      <th>0</th>\n",
       "      <th>1</th>\n",
       "      <th>2</th>\n",
       "      <th>3</th>\n",
       "      <th>4</th>\n",
       "      <th>5</th>\n",
       "      <th>6</th>\n",
       "    </tr>\n",
       "  </thead>\n",
       "  <tbody>\n",
       "    <tr>\n",
       "      <th>0</th>\n",
       "      <td>0</td>\n",
       "      <td>20100</td>\n",
       "      <td>bernatfc</td>\n",
       "      <td>NaN</td>\n",
       "      <td>NaN</td>\n",
       "      <td>NaN</td>\n",
       "      <td>NaN</td>\n",
       "      <td>[]</td>\n",
       "    </tr>\n",
       "    <tr>\n",
       "      <th>1</th>\n",
       "      <td>1</td>\n",
       "      <td>20101</td>\n",
       "      <td>ericbdev</td>\n",
       "      <td>NaN</td>\n",
       "      <td>NaN</td>\n",
       "      <td>NaN</td>\n",
       "      <td>NaN</td>\n",
       "      <td>[]</td>\n",
       "    </tr>\n",
       "    <tr>\n",
       "      <th>2</th>\n",
       "      <td>2</td>\n",
       "      <td>20102</td>\n",
       "      <td>ethdax</td>\n",
       "      <td>NaN</td>\n",
       "      <td>NaN</td>\n",
       "      <td>NaN</td>\n",
       "      <td>NaN</td>\n",
       "      <td>[]</td>\n",
       "    </tr>\n",
       "    <tr>\n",
       "      <th>3</th>\n",
       "      <td>3</td>\n",
       "      <td>56090</td>\n",
       "      <td>!56090</td>\n",
       "      <td>NaN</td>\n",
       "      <td>NaN</td>\n",
       "      <td>NaN</td>\n",
       "      <td>NaN</td>\n",
       "      <td>[]</td>\n",
       "    </tr>\n",
       "    <tr>\n",
       "      <th>4</th>\n",
       "      <td>4</td>\n",
       "      <td>20103</td>\n",
       "      <td>adis</td>\n",
       "      <td>NaN</td>\n",
       "      <td>NaN</td>\n",
       "      <td>NaN</td>\n",
       "      <td>NaN</td>\n",
       "      <td>[]</td>\n",
       "    </tr>\n",
       "  </tbody>\n",
       "</table>\n",
       "</div>"
      ],
      "text/plain": [
       "   Unnamed: 0      0         1   2   3   4   5   6\n",
       "0           0  20100  bernatfc NaN NaN NaN NaN  []\n",
       "1           1  20101  ericbdev NaN NaN NaN NaN  []\n",
       "2           2  20102    ethdax NaN NaN NaN NaN  []\n",
       "3           3  56090    !56090 NaN NaN NaN NaN  []\n",
       "4           4  20103      adis NaN NaN NaN NaN  []"
      ]
     },
     "execution_count": 7,
     "metadata": {},
     "output_type": "execute_result"
    }
   ],
   "source": [
    "df.head()"
   ]
  },
  {
   "cell_type": "code",
   "execution_count": 9,
   "id": "0c3b3db6-cf16-494c-85f7-d290ea9819c5",
   "metadata": {},
   "outputs": [],
   "source": [
    "data_pr = df[['1', '2']]\n",
    "data_brscore = df[['1', '4']]"
   ]
  },
  {
   "cell_type": "markdown",
   "id": "bb235086-48d6-43bc-a0c9-a04e420e559f",
   "metadata": {},
   "source": [
    "# Exploratory Analysis"
   ]
  },
  {
   "cell_type": "code",
   "execution_count": 11,
   "id": "d52f12d4-fa27-48c9-90c3-111637e66473",
   "metadata": {},
   "outputs": [],
   "source": [
    "def histogram_plot(data, xlabel=None, ylabel=None, title=None):\n",
    "    plt.figure()\n",
    "    plt.hist(data, bins=50, log=True)\n",
    "    if xlabel:\n",
    "        plt.xlabel(xlabel)\n",
    "    if ylabel:\n",
    "        plt.ylabel(ylabel)\n",
    "    if title:\n",
    "        plt.title(title)\n",
    "    plt.show()"
   ]
  },
  {
   "cell_type": "code",
   "execution_count": 17,
   "id": "90c92a86-a86a-416e-9b12-99ee492c39bf",
   "metadata": {},
   "outputs": [
    {
     "data": {
      "image/png": "[encoded data removed]",
      "text/plain": [
       "<Figure size 640x480 with 1 Axes>"
      ]
     },
     "metadata": {},
     "output_type": "display_data"
    }
   ],
   "source": [
    "histogram_plot(data_pr['2'])"
   ]
  },
  {
   "cell_type": "code",
   "execution_count": null,
   "id": "6280248e-8b3f-49d1-b513-efb2cc0a8889",
   "metadata": {},
   "outputs": [],
   "source": []
  }
 ],
 "metadata": {
  "kernelspec": {
   "display_name": "Python 3 (ipykernel)",
   "language": "python",
   "name": "python3"
  },
  "language_info": {
   "codemirror_mode": {
    "name": "ipython",
    "version": 3
   },
   "file_extension": ".py",
   "mimetype": "text/x-python",
   "name": "python",
   "nbconvert_exporter": "python",
   "pygments_lexer": "ipython3",
   "version": "3.12.3"
  }
 },
 "nbformat": 4,
 "nbformat_minor": 5
}
