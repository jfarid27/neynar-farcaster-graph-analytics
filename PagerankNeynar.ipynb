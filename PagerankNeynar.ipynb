{
 "cells": [
  {
   "cell_type": "code",
   "execution_count": 1,
   "id": "11da50f1-bb0e-403d-a1f8-1d519d03b909",
   "metadata": {},
   "outputs": [],
   "source": [
    "import * as pl from \"npm:nodejs-polars@0.18.0\";\n",
    "import * as Plot from \"npm:@observablehq/plot\";\n",
    "import { document } from \"jsr:@manzt/jupyter-helper\";\n",
    "\n",
    "import { computePageRank } from \"./src/Graph/Controllers.ts\""
   ]
  },
  {
   "cell_type": "code",
   "execution_count": 2,
   "id": "af517ae0-1061-4b51-9204-c324c5278c92",
   "metadata": {},
   "outputs": [],
   "source": [
    "const USER_FOLLOW_LIMIT = 100;\n",
    "\n",
    "const src_data = \"data/follows/farcasterdata-*.csv\";\n",
    "\n",
    "const lazyData = pl.scanCSV(src_data, { hasHeader: true });"
   ]
  },
  {
   "cell_type": "code",
   "execution_count": 3,
   "id": "a4efc827-f01c-4bf0-b92d-48774add366e",
   "metadata": {},
   "outputs": [],
   "source": [
    "const degrees = lazyData.groupBy(\"target_fid\")\n",
    "  .agg(pl.count(\"target_fid\").alias(\"in_deg\"))\n",
    "  .filter(pl.col(\"in_deg\").gtEq(USER_FOLLOW_LIMIT));\n",
    "\n",
    "// Adding filtering to remove users without at least 100 follows\n",
    "const filtered = lazyData.join(degrees, { leftOn: \"fid\", rightOn: \"target_fid\", how: \"inner\" });\n",
    "\n",
    "const current_network = filtered\n",
    "  .groupBy([\"fid\", \"target_fid\"])\n",
    "  .agg(\n",
    "    pl.col(\"type\").sum().alias(\"type_sum\"),\n",
    "  )\n",
    "\n",
    "// Added just in case users follow then unfollow in the data.\n",
    "const cleaned_network = current_network\n",
    "  .withColumns([\n",
    "    pl\n",
    "      .when(pl.col(\"type_sum\").gtEq(1))\n",
    "      .then(pl.lit(1))\n",
    "      .otherwise(pl.lit(0))\n",
    "      .alias(\"type_sum\"),\n",
    "  ])\n",
    "  .filter(pl.col(\"type_sum\").eq(1));\n"
   ]
  },
  {
   "cell_type": "code",
   "execution_count": 4,
   "id": "fc8bd93d-3701-4d5f-aa14-27fcf8c7f79b",
   "metadata": {},
   "outputs": [
    {
     "name": "stdout",
     "output_type": "stream",
     "text": [
      "\u001b[33m4324451\u001b[39m\n"
     ]
    }
   ],
   "source": [
    "const live = await cleaned_network.collect();\n",
    "console.log(live.height)"
   ]
  },
  {
   "cell_type": "code",
   "execution_count": 5,
   "id": "169b5bed-5724-479b-954a-859dbb93ce8c",
   "metadata": {},
   "outputs": [],
   "source": [
    "const pr_data = await computePageRank(live);\n",
    "const plot_records = pr_data.toRecords();"
   ]
  },
  {
   "cell_type": "code",
   "execution_count": 6,
   "id": "f006c9a2-4c84-47f4-bc06-8bd157653494",
   "metadata": {},
   "outputs": [
    {
     "data": {
      "image/svg+xml": [
       "<svg viewBox=\"0 0 640 400\" height=\"400\" width=\"640\" text-anchor=\"middle\" font-size=\"10\" font-family=\"system-ui, sans-serif\" fill=\"currentColor\" class=\"plot-d6a7b5\"><style>:where(.plot-d6a7b5) {\n",
       "  --plot-background: white;\n",
       "  display: block;\n",
       "  height: auto;\n",
       "  height: intrinsic;\n",
       "  max-width: 100%;\n",
       "}\n",
       ":where(.plot-d6a7b5 text),\n",
       ":where(.plot-d6a7b5 tspan) {\n",
       "  white-space: pre;\n",
       "}</style><g stroke-opacity=\"0.1\" stroke=\"currentColor\" aria-hidden=\"true\" aria-label=\"y-grid\"><line y2=\"370\" y1=\"370\" x2=\"620\" x1=\"40\" /><line y2=\"325.468471677948\" y1=\"325.468471677948\" x2=\"620\" x1=\"40\" /><line y2=\"280.936943355896\" y1=\"280.936943355896\" x2=\"620\" x1=\"40\" /><line y2=\"236.405415033844\" y1=\"236.405415033844\" x2=\"620\" x1=\"40\" /><line y2=\"191.87388671179195\" y1=\"191.87388671179195\" x2=\"620\" x1=\"40\" /><line y2=\"147.34235838973993\" y1=\"147.34235838973993\" x2=\"620\" x1=\"40\" /><line y2=\"102.81083006768792\" y1=\"102.81083006768792\" x2=\"620\" x1=\"40\" /><line y2=\"58.27930174563592\" y1=\"58.27930174563592\" x2=\"620\" x1=\"40\" /></g><g stroke=\"currentColor\" fill=\"none\" aria-hidden=\"true\" aria-label=\"y-axis tick\"><path d=\"M0,0L-6,0\" transform=\"translate(40,370)\" /><path d=\"M0,0L-6,0\" transform=\"translate(40,325.468471677948)\" /><path d=\"M0,0L-6,0\" transform=\"translate(40,280.936943355896)\" /><path d=\"M0,0L-6,0\" transform=\"translate(40,236.405415033844)\" /><path d=\"M0,0L-6,0\" transform=\"translate(40,191.87388671179195)\" /><path d=\"M0,0L-6,0\" transform=\"translate(40,147.34235838973993)\" /><path d=\"M0,0L-6,0\" transform=\"translate(40,102.81083006768792)\" /><path d=\"M0,0L-6,0\" transform=\"translate(40,58.27930174563592)\" /></g><g transform=\"translate(-9,0)\" font-variant=\"tabular-nums\" text-anchor=\"end\" aria-label=\"y-axis tick label\"><text transform=\"translate(40,370)\" y=\"0.32em\">0</text><text transform=\"translate(40,325.468471677948)\" y=\"0.32em\">10,000</text><text transform=\"translate(40,280.936943355896)\" y=\"0.32em\">20,000</text><text transform=\"translate(40,236.405415033844)\" y=\"0.32em\">30,000</text><text transform=\"translate(40,191.87388671179195)\" y=\"0.32em\">40,000</text><text transform=\"translate(40,147.34235838973993)\" y=\"0.32em\">50,000</text><text transform=\"translate(40,102.81083006768792)\" y=\"0.32em\">60,000</text><text transform=\"translate(40,58.27930174563592)\" y=\"0.32em\">70,000</text></g><g transform=\"translate(-37,-17)\" text-anchor=\"start\" aria-label=\"y-axis label\"><text transform=\"translate(40,20)\" y=\"0.71em\">↑ Frequency</text></g><g stroke=\"currentColor\" fill=\"none\" aria-hidden=\"true\" aria-label=\"x-axis tick\"><path d=\"M0,0L0,6\" transform=\"translate(123.4848484848485,370)\" /><path d=\"M0,0L0,6\" transform=\"translate(211.36363636363637,370)\" /><path d=\"M0,0L0,6\" transform=\"translate(299.2424242424242,370)\" /><path d=\"M0,0L0,6\" transform=\"translate(387.1212121212121,370)\" /><path d=\"M0,0L0,6\" transform=\"translate(475,370)\" /><path d=\"M0,0L0,6\" transform=\"translate(562.8787878787879,370)\" /></g><g transform=\"translate(0,9)\" font-variant=\"tabular-nums\" aria-label=\"x-axis tick label\"><text transform=\"translate(123.4848484848485,370)\" y=\"0.71em\">0.0001</text><text transform=\"translate(211.36363636363637,370)\" y=\"0.71em\">0.0002</text><text transform=\"translate(299.2424242424242,370)\" y=\"0.71em\">0.0003</text><text transform=\"translate(387.1212121212121,370)\" y=\"0.71em\">0.0004</text><text transform=\"translate(475,370)\" y=\"0.71em\">0.0005</text><text transform=\"translate(562.8787878787879,370)\" y=\"0.71em\">0.0006</text></g><g transform=\"translate(17,27)\" text-anchor=\"end\" aria-label=\"x-axis label\"><text transform=\"translate(620,370)\">pageRank →</text></g><g aria-label=\"rect\"><rect height=\"350\" width=\"3.393939393939391\" y=\"20\" x=\"40.5\" /><rect height=\"56.32793017456362\" width=\"3.393939393939391\" y=\"313.6720698254364\" x=\"44.89393939393939\" /><rect height=\"12.771642322764535\" width=\"3.393939393939405\" y=\"357.22835767723546\" x=\"49.28787878787878\" /><rect height=\"6.229960812255115\" width=\"3.393939393939391\" y=\"363.7700391877449\" x=\"53.68181818181819\" /><rect height=\"2.734235838973973\" width=\"3.393939393939391\" y=\"367.265764161026\" x=\"58.07575757575758\" /><rect height=\"1.2736017100106665\" width=\"3.393939393939405\" y=\"368.72639828998933\" x=\"62.46969696969697\" /><rect height=\"0.7882080513003302\" width=\"3.393939393939391\" y=\"369.21179194869967\" x=\"66.86363636363637\" /><rect height=\"0.4141432133950502\" width=\"3.393939393939391\" y=\"369.58585678660495\" x=\"71.25757575757576\" /><rect height=\"0.27164232276453504\" width=\"3.393939393939405\" y=\"369.72835767723546\" x=\"75.65151515151516\" /><rect height=\"0.20039187744924902\" width=\"3.3939393939393767\" y=\"369.79960812255075\" x=\"80.04545454545456\" /><rect height=\"0.12468827930177895\" width=\"3.393939393939405\" y=\"369.8753117206982\" x=\"84.43939393939394\" /><rect height=\"0.11578197363735399\" width=\"3.3939393939393767\" y=\"369.88421802636265\" x=\"88.83333333333334\" /><rect height=\"0.06234413965086105\" width=\"3.393939393939405\" y=\"369.93765586034914\" x=\"93.22727272727272\" /><rect height=\"0.031172069825458948\" width=\"3.3939393939393767\" y=\"369.96882793017454\" x=\"97.62121212121212\" /><rect height=\"0.04007837548982707\" width=\"3.3939393939394193\" y=\"369.9599216245102\" x=\"102.0151515151515\" /><rect height=\"0.04007837548982707\" width=\"3.393939393939391\" y=\"369.9599216245102\" x=\"106.40909090909092\" /><rect height=\"0.031172069825458948\" width=\"3.3939393939393767\" y=\"369.96882793017454\" x=\"110.80303030303031\" /><rect height=\"0.017812611328849925\" width=\"3.3939393939394193\" y=\"369.98218738867115\" x=\"115.19696969696969\" /><rect height=\"0.04007837548982707\" width=\"3.393939393939391\" y=\"369.9599216245102\" x=\"119.59090909090911\" /><rect height=\"0.04453152832206797\" width=\"3.3939393939393767\" y=\"369.95546847167793\" x=\"123.9848484848485\" /><rect height=\"0.022265764161033985\" width=\"3.393939393939405\" y=\"369.97773423583897\" x=\"128.37878787878788\" /><rect height=\"0.04007837548982707\" width=\"3.393939393939405\" y=\"369.9599216245102\" x=\"132.77272727272728\" /><rect height=\"0.03562522265764301\" width=\"3.3939393939393767\" y=\"369.96437477734236\" x=\"137.16666666666669\" /><rect height=\"0.03562522265764301\" width=\"3.393939393939405\" y=\"369.96437477734236\" x=\"141.56060606060606\" /><rect height=\"0.026718916993218045\" width=\"3.3939393939393767\" y=\"369.9732810830068\" x=\"145.95454545454547\" /><rect height=\"0.031172069825458948\" width=\"3.3939393939393767\" y=\"369.96882793017454\" x=\"150.34848484848484\" /><rect height=\"0.00890630566436812\" width=\"3.3939393939393767\" y=\"369.99109369433563\" x=\"154.74242424242422\" /><rect height=\"0.013359458496609022\" width=\"3.393939393939405\" y=\"369.9866405415034\" x=\"159.1363636363636\" /><rect height=\"0.013359458496609022\" width=\"3.393939393939405\" y=\"369.9866405415034\" x=\"163.530303030303\" /><rect height=\"0.026718916993218045\" width=\"3.393939393939405\" y=\"369.9732810830068\" x=\"167.9242424242424\" /><rect height=\"0.00890630566436812\" width=\"3.393939393939405\" y=\"369.99109369433563\" x=\"172.3181818181818\" /><rect height=\"0.00445315283218406\" width=\"3.3939393939393767\" y=\"369.9955468471678\" x=\"176.71212121212122\" /><rect height=\"0.013359458496609022\" width=\"3.393939393939405\" y=\"369.9866405415034\" x=\"181.1060606060606\" /><rect height=\"0.00890630566436812\" width=\"3.3939393939393767\" y=\"369.99109369433563\" x=\"185.5\" /><rect height=\"0.00890630566436812\" width=\"3.393939393939405\" y=\"369.99109369433563\" x=\"189.89393939393938\" /><rect height=\"0.00890630566436812\" width=\"3.3939393939393767\" y=\"369.99109369433563\" x=\"194.28787878787878\" /><rect height=\"0.00445315283218406\" width=\"3.393939393939405\" y=\"369.9955468471678\" x=\"198.68181818181816\" /><rect height=\"0.00445315283218406\" width=\"3.3939393939393767\" y=\"369.9955468471678\" x=\"203.07575757575756\" /><rect height=\"0.017812611328849925\" width=\"3.3939393939394336\" y=\"369.98218738867115\" x=\"207.46969696969694\" /><rect height=\"0.00445315283218406\" width=\"3.3939393939393483\" y=\"369.9955468471678\" x=\"211.86363636363637\" /><rect height=\"0.013359458496609022\" width=\"3.393939393939405\" y=\"369.9866405415034\" x=\"216.25757575757572\" /><rect height=\"0.00890630566436812\" width=\"3.3939393939394336\" y=\"369.99109369433563\" x=\"220.65151515151513\" /><rect height=\"0.00890630566436812\" width=\"3.3939393939393767\" y=\"369.99109369433563\" x=\"225.04545454545456\" /><rect height=\"0.00445315283218406\" width=\"3.393939393939405\" y=\"369.9955468471678\" x=\"233.83333333333331\" /><rect height=\"0.00890630566436812\" width=\"3.3939393939393767\" y=\"369.99109369433563\" x=\"238.22727272727272\" /><rect height=\"0.00445315283218406\" width=\"3.3939393939394336\" y=\"369.9955468471678\" x=\"242.6212121212121\" /><rect height=\"0.00445315283218406\" width=\"3.3939393939393767\" y=\"369.9955468471678\" x=\"255.8030303030303\" /><rect height=\"0.00890630566436812\" width=\"3.3939393939393767\" y=\"369.99109369433563\" x=\"260.1969696969697\" /><rect height=\"0.013359458496609022\" width=\"3.3939393939394336\" y=\"369.9866405415034\" x=\"268.98484848484844\" /><rect height=\"0.00890630566436812\" width=\"3.3939393939394336\" y=\"369.99109369433563\" x=\"273.3787878787879\" /><rect height=\"0.013359458496609022\" width=\"3.3939393939394904\" y=\"369.9866405415034\" x=\"286.560606060606\" /><rect height=\"0.00445315283218406\" width=\"3.3939393939393767\" y=\"369.9955468471678\" x=\"290.9545454545455\" /><rect height=\"0.00445315283218406\" width=\"3.3939393939394336\" y=\"369.9955468471678\" x=\"299.7424242424242\" /><rect height=\"0.00445315283218406\" width=\"3.3939393939393767\" y=\"369.9955468471678\" x=\"304.1363636363636\" /><rect height=\"0.00445315283218406\" width=\"3.3939393939393767\" y=\"369.9955468471678\" x=\"326.1060606060606\" /><rect height=\"0.00445315283218406\" width=\"3.3939393939393767\" y=\"369.9955468471678\" x=\"370.04545454545456\" /><rect height=\"0.00445315283218406\" width=\"3.3939393939393767\" y=\"369.9955468471678\" x=\"427.16666666666663\" /><rect height=\"0.00445315283218406\" width=\"3.3939393939394336\" y=\"369.9955468471678\" x=\"435.95454545454544\" /><rect height=\"0.00445315283218406\" width=\"3.3939393939393767\" y=\"369.9955468471678\" x=\"440.3484848484849\" /><rect height=\"0.00445315283218406\" width=\"3.393939393939263\" y=\"369.9955468471678\" x=\"541.409090909091\" /><rect height=\"0.00445315283218406\" width=\"3.3939393939393767\" y=\"369.9955468471678\" x=\"567.7727272727273\" /><rect height=\"0.00445315283218406\" width=\"3.3939393939394904\" y=\"369.9955468471678\" x=\"616.1060606060605\" /></g><g stroke=\"currentColor\" aria-label=\"rule\"><line y2=\"370\" y1=\"370\" x2=\"620\" x1=\"40\" /></g></svg>"
      ]
     },
     "execution_count": 6,
     "metadata": {},
     "output_type": "execute_result"
    }
   ],
   "source": [
    "Plot.plot({\n",
    "  y: {grid: true},\n",
    "  marks: [\n",
    "    Plot.rectY(plot_records, Plot.binX({y: \"count\"}, {x: \"pageRank\"})),\n",
    "    Plot.ruleY([0])\n",
    "  ],\n",
    "  document\n",
    "})"
   ]
  },
  {
   "cell_type": "code",
   "execution_count": null,
   "id": "7a9e8072-7ccb-4f76-af55-086a470e5a2c",
   "metadata": {},
   "outputs": [],
   "source": []
  }
 ],
 "metadata": {
  "kernelspec": {
   "display_name": "Deno",
   "language": "typescript",
   "name": "deno"
  },
  "language_info": {
   "codemirror_mode": "typescript",
   "file_extension": ".ts",
   "mimetype": "text/x.typescript",
   "name": "typescript",
   "nbconvert_exporter": "script",
   "pygments_lexer": "typescript",
   "version": "5.8.3"
  }
 },
 "nbformat": 4,
 "nbformat_minor": 5
}
