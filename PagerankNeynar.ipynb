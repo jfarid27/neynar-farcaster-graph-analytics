{
 "cells": [
  {
   "cell_type": "code",
   "execution_count": 1,
   "id": "11da50f1-bb0e-403d-a1f8-1d519d03b909",
   "metadata": {},
   "outputs": [],
   "source": [
    "import * as pl from \"npm:nodejs-polars@0.18.0\";\n",
    "import * as Plot from \"npm:@observablehq/plot\";\n",
    "import { document } from \"jsr:@manzt/jupyter-helper\";\n",
    "\n",
    "import { computePageRank } from \"./src/Graph/Controllers.ts\""
   ]
  },
  {
   "cell_type": "code",
   "execution_count": 2,
   "id": "af517ae0-1061-4b51-9204-c324c5278c92",
   "metadata": {},
   "outputs": [],
   "source": [
    "const USER_FOLLOW_LIMIT = 100;\n",
    "\n",
    "const src_data = \"data/follows/farcasterdata-*.csv\";\n",
    "\n",
    "const lazyData = pl.scanCSV(src_data, { hasHeader: true });"
   ]
  },
  {
   "cell_type": "code",
   "execution_count": 3,
   "id": "a4efc827-f01c-4bf0-b92d-48774add366e",
   "metadata": {},
   "outputs": [],
   "source": [
    "const degrees = lazyData.groupBy(\"target_fid\")\n",
    "  .agg(pl.count(\"target_fid\").alias(\"in_deg\"))\n",
    "  .filter(pl.col(\"in_deg\").gtEq(USER_FOLLOW_LIMIT));\n",
    "\n",
    "// Adding filtering to remove users without at least 100 follows\n",
    "const filtered = lazyData.join(degrees, { leftOn: \"fid\", rightOn: \"target_fid\", how: \"inner\" });\n",
    "\n",
    "const current_network = filtered\n",
    "  .groupBy([\"fid\", \"target_fid\"])\n",
    "  .agg(\n",
    "    pl.col(\"type\").sum().alias(\"type_sum\"),\n",
    "  )\n",
    "\n",
    "// Added just in case users follow then unfollow in the data.\n",
    "const cleaned_network = current_network\n",
    "  .withColumns([\n",
    "    pl\n",
    "      .when(pl.col(\"type_sum\").gtEq(1))\n",
    "      .then(pl.lit(1))\n",
    "      .otherwise(pl.lit(0))\n",
    "      .alias(\"type_sum\"),\n",
    "  ])\n",
    "  .filter(pl.col(\"type_sum\").eq(1));\n"
   ]
  },
  {
   "cell_type": "code",
   "execution_count": 4,
   "id": "fc8bd93d-3701-4d5f-aa14-27fcf8c7f79b",
   "metadata": {},
   "outputs": [
    {
     "name": "stdout",
     "output_type": "stream",
     "text": [
      "\u001b[33m9150401\u001b[39m\n"
     ]
    }
   ],
   "source": [
    "const live = await cleaned_network.collect();\n",
    "console.log(live.height)"
   ]
  },
  {
   "cell_type": "code",
   "execution_count": null,
   "id": "169b5bed-5724-479b-954a-859dbb93ce8c",
   "metadata": {},
   "outputs": [],
   "source": [
    "const pr_data = await computePageRank(live);\n",
    "const plot_records = pr_data.toRecords();"
   ]
  },
  {
   "cell_type": "code",
   "execution_count": null,
   "id": "f006c9a2-4c84-47f4-bc06-8bd157653494",
   "metadata": {},
   "outputs": [],
   "source": [
    "Plot.plot({\n",
    "  y: {grid: true},\n",
    "  marks: [\n",
    "    Plot.rectY(plot_records, Plot.binX({y: \"count\"}, {x: \"pageRank\"})),\n",
    "    Plot.ruleY([0])\n",
    "  ],\n",
    "  document\n",
    "})"
   ]
  },
  {
   "cell_type": "code",
   "execution_count": null,
   "id": "7a9e8072-7ccb-4f76-af55-086a470e5a2c",
   "metadata": {},
   "outputs": [],
   "source": []
  }
 ],
 "metadata": {
  "kernelspec": {
   "display_name": "Deno",
   "language": "typescript",
   "name": "deno"
  },
  "language_info": {
   "codemirror_mode": "typescript",
   "file_extension": ".ts",
   "mimetype": "text/x.typescript",
   "name": "typescript",
   "nbconvert_exporter": "script",
   "pygments_lexer": "typescript",
   "version": "5.8.3"
  }
 },
 "nbformat": 4,
 "nbformat_minor": 5
}
